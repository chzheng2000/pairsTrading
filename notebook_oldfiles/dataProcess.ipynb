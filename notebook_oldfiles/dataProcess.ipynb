{
 "metadata": {
  "language_info": {
   "codemirror_mode": {
    "name": "ipython",
    "version": 3
   },
   "file_extension": ".py",
   "mimetype": "text/x-python",
   "name": "python",
   "nbconvert_exporter": "python",
   "pygments_lexer": "ipython3",
   "version": "3.9.1"
  },
  "orig_nbformat": 2,
  "kernelspec": {
   "name": "python391jvsc74a57bd0bbee7842ce8ba476870a006d5d5b68f11cea175afb0fea017b7f81beccf88892",
   "display_name": "Python 3.9.1 64-bit"
  },
  "metadata": {
   "interpreter": {
    "hash": "bbee7842ce8ba476870a006d5d5b68f11cea175afb0fea017b7f81beccf88892"
   }
  }
 },
 "nbformat": 4,
 "nbformat_minor": 2,
 "cells": [
  {
   "source": [
    "## dataProcess\n",
    "### 数据说明\n",
    "- Trddt 交易日期 - 以yyyy-mm-dd表示\n",
    "- Agmtcd 合约代码  \n",
    "- Trdvar 交易品种  \n",
    "- Fdt003 日开盘价  \n",
    "- Fdt006 日收盘价 \n",
    "- Fdt007 日结算价 \n",
    "- Fdt010 成交量 \n",
    "### TODO\n",
    "- 数据标准化\n",
    "- 去除某一天没有交易的期货（流动性）\n",
    "- 计算累积收益率"
   ],
   "cell_type": "markdown",
   "metadata": {}
  },
  {
   "cell_type": "code",
   "execution_count": 1,
   "metadata": {},
   "outputs": [],
   "source": [
    "import pandas as pd\n",
    "import numpy as np\n",
    "from datetime import datetime"
   ]
  },
  {
   "cell_type": "code",
   "execution_count": 2,
   "metadata": {},
   "outputs": [],
   "source": [
    "data = pd.read_csv(\"data/FUT_Fdt.csv\")"
   ]
  },
  {
   "cell_type": "code",
   "execution_count": 3,
   "metadata": {},
   "outputs": [
    {
     "output_type": "execute_result",
     "data": {
      "text/plain": [
       "64"
      ]
     },
     "metadata": {},
     "execution_count": 3
    }
   ],
   "source": [
    "len(data[\"Trdvar\"].unique())"
   ]
  },
  {
   "cell_type": "code",
   "execution_count": 3,
   "metadata": {},
   "outputs": [],
   "source": [
    "# 根据成交量筛选出主力合约\n",
    "data.sort_values(by=[\"Trddt\", \"Trdvar\"], inplace=True)"
   ]
  },
  {
   "cell_type": "code",
   "execution_count": 4,
   "metadata": {},
   "outputs": [
    {
     "output_type": "execute_result",
     "data": {
      "text/plain": [
       "          Trddt Agmtcd Trdvar  Fdt003  Fdt006  Fdt007    Fdt010\n",
       "35   2017-01-03  L1701  LLDPE  9820.0  9600.0  9650.0     742.0\n",
       "71   2017-01-03  L1702  LLDPE  9710.0  9710.0  9710.0       0.0\n",
       "103  2017-01-03  L1703  LLDPE  9855.0  9855.0  9855.0       0.0\n",
       "129  2017-01-03  L1704  LLDPE  9660.0  9860.0  9760.0       4.0\n",
       "165  2017-01-03  L1705  LLDPE  9875.0  9710.0  9800.0  415780.0"
      ],
      "text/html": "<div>\n<style scoped>\n    .dataframe tbody tr th:only-of-type {\n        vertical-align: middle;\n    }\n\n    .dataframe tbody tr th {\n        vertical-align: top;\n    }\n\n    .dataframe thead th {\n        text-align: right;\n    }\n</style>\n<table border=\"1\" class=\"dataframe\">\n  <thead>\n    <tr style=\"text-align: right;\">\n      <th></th>\n      <th>Trddt</th>\n      <th>Agmtcd</th>\n      <th>Trdvar</th>\n      <th>Fdt003</th>\n      <th>Fdt006</th>\n      <th>Fdt007</th>\n      <th>Fdt010</th>\n    </tr>\n  </thead>\n  <tbody>\n    <tr>\n      <th>35</th>\n      <td>2017-01-03</td>\n      <td>L1701</td>\n      <td>LLDPE</td>\n      <td>9820.0</td>\n      <td>9600.0</td>\n      <td>9650.0</td>\n      <td>742.0</td>\n    </tr>\n    <tr>\n      <th>71</th>\n      <td>2017-01-03</td>\n      <td>L1702</td>\n      <td>LLDPE</td>\n      <td>9710.0</td>\n      <td>9710.0</td>\n      <td>9710.0</td>\n      <td>0.0</td>\n    </tr>\n    <tr>\n      <th>103</th>\n      <td>2017-01-03</td>\n      <td>L1703</td>\n      <td>LLDPE</td>\n      <td>9855.0</td>\n      <td>9855.0</td>\n      <td>9855.0</td>\n      <td>0.0</td>\n    </tr>\n    <tr>\n      <th>129</th>\n      <td>2017-01-03</td>\n      <td>L1704</td>\n      <td>LLDPE</td>\n      <td>9660.0</td>\n      <td>9860.0</td>\n      <td>9760.0</td>\n      <td>4.0</td>\n    </tr>\n    <tr>\n      <th>165</th>\n      <td>2017-01-03</td>\n      <td>L1705</td>\n      <td>LLDPE</td>\n      <td>9875.0</td>\n      <td>9710.0</td>\n      <td>9800.0</td>\n      <td>415780.0</td>\n    </tr>\n  </tbody>\n</table>\n</div>"
     },
     "metadata": {},
     "execution_count": 4
    }
   ],
   "source": [
    "data.head()"
   ]
  },
  {
   "cell_type": "code",
   "execution_count": 5,
   "metadata": {},
   "outputs": [],
   "source": [
    "def majorContract(group):\n",
    "    '''\n",
    "    @Description\n",
    "    生成最大成交量列\n",
    "    ------------\n",
    "    @Params\n",
    "    group, pd.groupby\n",
    "    ------------\n",
    "    @Returns\n",
    "    group\n",
    "    '''\n",
    "    maxVol = group[\"Fdt010\"].max()\n",
    "    group[\"max\"] = maxVol\n",
    "    return group"
   ]
  },
  {
   "cell_type": "code",
   "execution_count": 6,
   "metadata": {},
   "outputs": [],
   "source": [
    "data = data.groupby([\"Trddt\", \"Trdvar\"]).apply(majorContract)"
   ]
  },
  {
   "cell_type": "code",
   "execution_count": 7,
   "metadata": {},
   "outputs": [],
   "source": [
    "data = data[data[\"Fdt010\"]==data[\"max\"]]"
   ]
  },
  {
   "cell_type": "code",
   "execution_count": 8,
   "metadata": {},
   "outputs": [],
   "source": [
    "# 去除主力合约成交量过小的期货，如中密度纤维板、早籼稻等\n",
    "data = data[data[\"max\"]>100]"
   ]
  },
  {
   "cell_type": "code",
   "execution_count": 11,
   "metadata": {},
   "outputs": [],
   "source": [
    "data = data[[\"Trddt\", \"Trdvar\", \"Fdt006\", \"Fdt010\"]]"
   ]
  },
  {
   "cell_type": "code",
   "execution_count": 37,
   "metadata": {},
   "outputs": [],
   "source": [
    "# 去除某一日无交易的品种\n",
    "tradvars = data[\"Trdvar\"].unique()\n",
    "temp = data.groupby(\"Trdvar\")[\"Trddt\"]\n",
    "count = temp.count()\n",
    "fullTrade = (count == count.max())  # 没有交易空缺"
   ]
  },
  {
   "cell_type": "code",
   "execution_count": 42,
   "metadata": {},
   "outputs": [],
   "source": [
    "data = data[data[\"Trdvar\"].map(fullTrade)]"
   ]
  },
  {
   "cell_type": "code",
   "execution_count": 46,
   "metadata": {},
   "outputs": [
    {
     "output_type": "execute_result",
     "data": {
      "text/plain": [
       "(array(['LLDPE', 'PTA', '动力煤', '天然橡胶', '棉花', '棕榈油', '热轧卷板', '焦炭', '焦煤',\n",
       "        '玉米', '玉米淀粉', '玻璃', '甲醇', '白糖', '白银', '石油沥青', '硅铁', '聚丙烯', '聚氯乙烯',\n",
       "        '菜籽油', '菜籽粕', '螺纹钢', '豆油', '豆粕', '铁矿石', '铅', '铜', '铝', '锌', '锡',\n",
       "        '锰硅', '镍', '鲜鸡蛋', '黄大豆1号', '黄金'], dtype=object),\n",
       " 35)"
      ]
     },
     "metadata": {},
     "execution_count": 46
    }
   ],
   "source": [
    "data[\"Trdvar\"].unique(), len(data[\"Trdvar\"].unique())\n",
    "# 35品种 1075交易日"
   ]
  },
  {
   "cell_type": "code",
   "execution_count": 48,
   "metadata": {},
   "outputs": [],
   "source": [
    "data.columns = [\"date\", \"asset\", \"close\", \"volume\"]"
   ]
  },
  {
   "cell_type": "code",
   "execution_count": 50,
   "metadata": {},
   "outputs": [],
   "source": [
    "data.to_csv(\"data/preprocessed.csv\", index=False)"
   ]
  },
  {
   "source": [
    "## 计算累计收益率并导出"
   ],
   "cell_type": "markdown",
   "metadata": {}
  },
  {
   "cell_type": "code",
   "execution_count": 4,
   "metadata": {},
   "outputs": [],
   "source": [
    "data = pd.read_csv(\"data/preprocessed.csv\")"
   ]
  },
  {
   "cell_type": "code",
   "execution_count": 5,
   "metadata": {},
   "outputs": [],
   "source": [
    "# 转化成时间格式\n",
    "data.loc[:,\"date\"] = pd.to_datetime(data[\"date\"], format=\"%Y-%m-%d\")"
   ]
  },
  {
   "cell_type": "code",
   "execution_count": 6,
   "metadata": {},
   "outputs": [],
   "source": [
    "returns = {}\n",
    "assets = data[\"asset\"].unique()\n",
    "for asset in assets:\n",
    "    temp = data[data[\"asset\"] ==asset].sort_values(by=\"date\")[\"close\"]\n",
    "    # 收益率\n",
    "    temp = (temp - temp.shift(1))/temp.shift(1) \n",
    "    # 累计收益率\n",
    "    temp = (1+temp).cumprod()\n",
    "    returns[asset] = temp"
   ]
  },
  {
   "cell_type": "code",
   "execution_count": 7,
   "metadata": {},
   "outputs": [],
   "source": [
    "import pickle\n",
    "with open(\"data/cumReturn.bin\", \"wb\") as f:\n",
    "    pickle.dump(returns, f)\n",
    "    f.close()"
   ]
  },
  {
   "cell_type": "code",
   "execution_count": 8,
   "metadata": {},
   "outputs": [],
   "source": [
    "with open(\"data/cumReturn.bin\", \"rb\") as f:\n",
    "    test = pickle.load(f)"
   ]
  },
  {
   "cell_type": "code",
   "execution_count": 12,
   "metadata": {},
   "outputs": [
    {
     "output_type": "execute_result",
     "data": {
      "text/plain": [
       "pandas.core.series.Series"
      ]
     },
     "metadata": {},
     "execution_count": 12
    }
   ],
   "source": [
    "type(test[\"LLDPE\"])"
   ]
  },
  {
   "cell_type": "code",
   "execution_count": 13,
   "metadata": {},
   "outputs": [],
   "source": [
    "f.close()"
   ]
  },
  {
   "cell_type": "code",
   "execution_count": null,
   "metadata": {},
   "outputs": [],
   "source": []
  }
 ]
}